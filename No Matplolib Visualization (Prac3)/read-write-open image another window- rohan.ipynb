{
 "cells": [
  {
   "cell_type": "markdown",
   "id": "aa37e19c-0f20-4f5d-b243-7cda6e51d362",
   "metadata": {},
   "source": [
    "Without using MATPLOTLIB we work images with OpenCV"
   ]
  },
  {
   "cell_type": "code",
   "execution_count": 3,
   "id": "3a571df4-5725-486e-97ef-a2ecfa3fd2e1",
   "metadata": {},
   "outputs": [],
   "source": [
    "import cv2"
   ]
  },
  {
   "cell_type": "code",
   "execution_count": 9,
   "id": "ea6379f6-0396-4aa1-8086-2afb63528e28",
   "metadata": {},
   "outputs": [],
   "source": [
    "myimg = cv2.imread(r'C:\\Users\\Rohan\\Desktop\\OpenCV with GenAI (Prac2)\\rohit sharma.webp')"
   ]
  },
  {
   "cell_type": "code",
   "execution_count": 17,
   "id": "677aedd5-4fc9-4ea6-9325-5c678758ce02",
   "metadata": {},
   "outputs": [],
   "source": [
    "wrong_img = cv2.imread(r'C:\\Users\\Rohan\\Desktop\\OpenCV with GenAI (Prac2)\\rohit.webp')"
   ]
  },
  {
   "cell_type": "code",
   "execution_count": 25,
   "id": "f1b70312-3159-4616-b8ea-48444e12c3b4",
   "metadata": {},
   "outputs": [
    {
     "data": {
      "text/plain": [
       "NoneType"
      ]
     },
     "execution_count": 25,
     "metadata": {},
     "output_type": "execute_result"
    }
   ],
   "source": [
    "type(wrong_img)    #cv2.imread never gives you the error even you don't have any image in the folder"
   ]
  },
  {
   "cell_type": "code",
   "execution_count": 23,
   "id": "6bdca2d1-0be6-4e5d-8baa-027940c63cc8",
   "metadata": {},
   "outputs": [
    {
     "data": {
      "text/plain": [
       "numpy.ndarray"
      ]
     },
     "execution_count": 23,
     "metadata": {},
     "output_type": "execute_result"
    }
   ],
   "source": [
    "type(myimg)"
   ]
  },
  {
   "cell_type": "code",
   "execution_count": 2,
   "id": "da8c49e8-412f-40ce-a3eb-6451d6fe88bd",
   "metadata": {},
   "outputs": [
    {
     "data": {
      "text/plain": [
       "-1"
      ]
     },
     "execution_count": 2,
     "metadata": {},
     "output_type": "execute_result"
    }
   ],
   "source": [
    "import cv2\n",
    "\n",
    "myimg = cv2.imread(r'C:\\Users\\Rohan\\Desktop\\OpenCV with GenAI (Prac2)\\rohit sharma.webp')\n",
    "\n",
    "cv2.imshow(\"Ro-Hitman\", myimg)\n",
    "\n",
    "cv2.waitKey()"
   ]
  },
  {
   "cell_type": "code",
   "execution_count": 36,
   "id": "9062b9d6-1139-4c1c-b3f5-64711fc6a81f",
   "metadata": {},
   "outputs": [],
   "source": [
    "import cv2\n",
    "\n",
    "myimg = cv2.imread(r'C:\\Users\\Rohan\\Desktop\\OpenCV with GenAI (Prac2)\\rohit sharma.webp')\n",
    "\n",
    "while True:\n",
    "    cv2.imshow(\"none\", myimg)\n",
    "\n",
    "    if cv2.waitKey(1) & 0xFF == 27 :\n",
    "        break\n",
    "        cv2.destroyAllWindows()"
   ]
  },
  {
   "cell_type": "code",
   "execution_count": 6,
   "id": "82b1b64d-d0c4-416a-99b1-43f236d9b626",
   "metadata": {},
   "outputs": [],
   "source": [
    "# reading writing opening images another window #rohanwaghme05"
   ]
  }
 ],
 "metadata": {
  "kernelspec": {
   "display_name": "Python 3 (ipykernel)",
   "language": "python",
   "name": "python3"
  },
  "language_info": {
   "codemirror_mode": {
    "name": "ipython",
    "version": 3
   },
   "file_extension": ".py",
   "mimetype": "text/x-python",
   "name": "python",
   "nbconvert_exporter": "python",
   "pygments_lexer": "ipython3",
   "version": "3.12.4"
  }
 },
 "nbformat": 4,
 "nbformat_minor": 5
}
