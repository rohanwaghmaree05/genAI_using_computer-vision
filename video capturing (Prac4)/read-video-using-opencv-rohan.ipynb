{
 "cells": [
  {
   "cell_type": "markdown",
   "id": "e9c95f55-0426-4ac9-94e5-021454ec0824",
   "metadata": {},
   "source": [
    "Reading Video using OpenCV"
   ]
  },
  {
   "cell_type": "code",
   "execution_count": 5,
   "id": "883d0021-c727-44b6-a6f2-5572137409f8",
   "metadata": {},
   "outputs": [],
   "source": [
    "import cv2\n",
    "\n",
    "cap = cv2.VideoCapture(0)\n",
    "\n",
    "width = cap.get(cv2.CAP_PROP_FRAME_WIDTH)\n",
    "\n",
    "height = cap.get(cv2.CAP_PROP_FRAME_HEIGHT)\n",
    "\n",
    "while True :\n",
    "    ret, frame = cap.read()\n",
    "    gray =  cv2.cvtColor(frame, cv2.COLOR_BGR2GRAY)\n",
    "\n",
    "    cv2.imshow(\"My Self\", gray)\n",
    "\n",
    "    if cv2.waitKey(1) & 0xFF == ord(\"q\") :\n",
    "        break\n",
    "\n",
    "cap.release()\n",
    "\n",
    "cv2.destroyAllWindows()\n",
    "\n",
    "\n",
    "#video capturing successfully"
   ]
  },
  {
   "cell_type": "code",
   "execution_count": 15,
   "id": "94aa7cce-9c9c-4d81-a92c-d29c08c5268d",
   "metadata": {},
   "outputs": [],
   "source": [
    "import cv2\n",
    "\n",
    "cap = cv2.VideoCapture(0)\n",
    "\n",
    "width = cap.get(cv2.CAP_PROP_FRAME_WIDTH)\n",
    "\n",
    "height = cap.get(cv2.CAP_PROP_FRAME_HEIGHT)\n",
    "\n",
    "while True :\n",
    "    ret, frame = cap.read()\n",
    "    gray =  cv2.cvtColor(frame, cv2.COLOR_BGR2RGB)\n",
    "\n",
    "    cv2.imshow(\"My Self\", gray)\n",
    "\n",
    "    if cv2.waitKey(1) & 0xFF == ord(\"a\") :\n",
    "        break\n",
    "\n",
    "cap.release()\n",
    "\n",
    "cv2.destroyAllWindows()\n",
    "\n",
    "\n",
    "#from bgr to rgb successfully running"
   ]
  },
  {
   "cell_type": "code",
   "execution_count": null,
   "id": "005eae96-510a-422f-b3b8-c6741be61c74",
   "metadata": {},
   "outputs": [],
   "source": [
    "# Video analysis module: Handles video processing, object tracking, etc.\n",
    "# Image processing module: Provides tools for filtering, transformations, feature detection, etc.\n",
    "# focuses on image and video processing and computer vision tasks."
   ]
  }
 ],
 "metadata": {
  "kernelspec": {
   "display_name": "Python 3 (ipykernel)",
   "language": "python",
   "name": "python3"
  },
  "language_info": {
   "codemirror_mode": {
    "name": "ipython",
    "version": 3
   },
   "file_extension": ".py",
   "mimetype": "text/x-python",
   "name": "python",
   "nbconvert_exporter": "python",
   "pygments_lexer": "ipython3",
   "version": "3.12.4"
  }
 },
 "nbformat": 4,
 "nbformat_minor": 5
}
